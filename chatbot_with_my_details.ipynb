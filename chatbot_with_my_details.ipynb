{
  "cells": [
    {
      "cell_type": "code",
      "execution_count": null,
      "metadata": {
        "colab": {
          "base_uri": "https://localhost:8080/"
        },
        "id": "rvFXdDhYyHvS",
        "outputId": "f7fd4d1c-265c-48d3-e570-d87db6e745aa"
      },
      "outputs": [
        {
          "name": "stdout",
          "output_type": "stream",
          "text": [
            "Collecting gradientai\n",
            "  Downloading gradientai-1.4.0-py3-none-any.whl (171 kB)\n",
            "\u001b[2K     \u001b[90m━━━━━━━━━━━━━━━━━━━━━━━━━━━━━━━━━━━━━━━━\u001b[0m \u001b[32m171.1/171.1 kB\u001b[0m \u001b[31m2.1 MB/s\u001b[0m eta \u001b[36m0:00:00\u001b[0m\n",
            "\u001b[?25hCollecting aenum>=3.1.11 (from gradientai)\n",
            "  Downloading aenum-3.1.15-py3-none-any.whl (137 kB)\n",
            "\u001b[2K     \u001b[90m━━━━━━━━━━━━━━━━━━━━━━━━━━━━━━━━━━━━━━━━\u001b[0m \u001b[32m137.6/137.6 kB\u001b[0m \u001b[31m5.4 MB/s\u001b[0m eta \u001b[36m0:00:00\u001b[0m\n",
            "\u001b[?25hRequirement already satisfied: pydantic<2.0.0,>=1.10.5 in /usr/local/lib/python3.10/dist-packages (from gradientai) (1.10.13)\n",
            "Requirement already satisfied: python-dateutil>=2.8.2 in /usr/local/lib/python3.10/dist-packages (from gradientai) (2.8.2)\n",
            "Requirement already satisfied: urllib3>=1.25.3 in /usr/local/lib/python3.10/dist-packages (from gradientai) (2.0.7)\n",
            "Requirement already satisfied: typing-extensions>=4.2.0 in /usr/local/lib/python3.10/dist-packages (from pydantic<2.0.0,>=1.10.5->gradientai) (4.5.0)\n",
            "Requirement already satisfied: six>=1.5 in /usr/local/lib/python3.10/dist-packages (from python-dateutil>=2.8.2->gradientai) (1.16.0)\n",
            "Installing collected packages: aenum, gradientai\n",
            "Successfully installed aenum-3.1.15 gradientai-1.4.0\n"
          ]
        }
      ],
      "source": [
        "#!pip install gradientai --upgrade\n"
      ]
    },
    {
      "cell_type": "code",
      "execution_count": null,
      "metadata": {
        "id": "KFuX-qE_zVO8"
      },
      "outputs": [],
      "source": [
        "import os\n",
        "os.environ['GRADIENT_WORKSPACE_ID']= '40ce1b2e-e0e2-432d-a415-a7af5d4584f2_workspace'\n",
        "os.environ['GRADIENT_ACCESS_TOKEN']= '1MktnhGzpDCr6dUPhSqmuikN9PxQXvvK'"
      ]
    },
    {
      "cell_type": "code",
      "execution_count": null,
      "metadata": {
        "colab": {
          "background_save": true,
          "base_uri": "https://localhost:8080/"
        },
        "id": "dslU0U41z_2K",
        "outputId": "4011ef2d-f4a8-4757-96b2-becdd02a8456"
      },
      "outputs": [
        {
          "name": "stdout",
          "output_type": "stream",
          "text": [
            "Created model adapter with id 381b1d5a-32fa-45f8-b0fd-dbb51bf1b29b_model_adapter\n",
            "Asking: ###Instruction: what are skills kumar gaurav has \n",
            "\n",
            " ### Response:\n",
            "Generated:  Kumar Gaurav is a well-known Indian singer, composer, and actor. Some of the skills he has include:\n",
            "\n",
            "1. Singing: Kumar Gaurav is a versatile singer who can sing in various genres such as pop, rock, and classical music.\n",
            "\n",
            "2. Composing: He is also a skilled composer who has composed music for several films and albums.\n",
            "\n",
            "3. Acting: Apart from his singing career, Kumar\n",
            "Fine tuning the mode with iteration 1\n",
            "Fine tuning the mode with iteration 2\n",
            "Fine tuning the mode with iteration 3\n",
            "Generated:  Kumar Gaurav has the following skills:\n",
            "\n",
            "1. Data Science\n",
            "2. Machine Learning\n",
            "3. Deep Learning\n",
            "4. Python\n",
            "5. R\n",
            "6. PowerBI\n",
            "7. SQL\n",
            "8. Tableau\n",
            "9. NLP\n",
            "10. Big Data\n",
            "11. Cloud Computing\n",
            "12. AWS\n",
            "13. Azure\n",
            "14. Google Cloud\n",
            "15. DevOps\n",
            "16. Docker\n",
            "17. Kubernetes\n"
          ]
        }
      ],
      "source": [
        "from gradientai import Gradient\n",
        "\n",
        "\n",
        "def main():\n",
        "    gradient = Gradient()\n",
        "\n",
        "    base_model = gradient.get_base_model(base_model_slug=\"nous-hermes2\")\n",
        "\n",
        "    new_model_adapter = base_model.create_model_adapter(\n",
        "        name=\"ChatBot\"\n",
        "    )\n",
        "    print(f\"Created model adapter with id {new_model_adapter.id}\")\n",
        "\n",
        "\n",
        "    sample_query= \"###Instruction: what are skills kumar gaurav has \\n\\n ### Response:\"\n",
        "    print(f'Asking: {sample_query}')\n",
        "\n",
        "    #before finetunning\n",
        "\n",
        "    completion = new_model_adapter.complete(query=sample_query, max_generated_token_count=100).generated_output\n",
        "    print(f\"Generated: {completion}\")\n",
        "\n",
        "\n",
        "    ## custom dataset\n",
        "    samples = [\n",
        "        {\"inputs\": \" Instruction: Who is Kumar Gaurav? \\n\\n ### Response: Kumar Gaurav is a Data Scientist currently working in Infoys Bangalore.\"},\n",
        "        {\"inputs\": \" Instruction: Who Created You? \\n\\n ### Response: Kumar Gaurav is my creator. He created me by finetunning the model.\"},\n",
        "        {\"inputs\": \" Instruction: what are the skills your Creator have? \\n\\n ### Response: He knows about Python, MySql, Machine Learing, Deep Learning , NLP, PowerBI and many more. \"},\n",
        "        {\"inputs\": \" Instruction: Contact details of Kumar Gaurav \\n\\n ### Response: His contact details is- Contact Number 7667793789 , EmailId- krgau020@gmail.com \"},\n",
        "        {\"inputs\": \" Instruction: tell me about his graduation \\n\\n ### Response: He had done B.Tech in Infomation and Technology. he got Aggregate 8.68 CGPA. \"},\n",
        "        {\"inputs\": \" Instruction: What do you know about Kumar Gaurav? \\n\\n ### Response: He is currenly working as a data scientist role in Infosys Bangalore. he had done the B.tech in IT. He is from Bihar. \"},\n",
        "\n",
        "        ]\n",
        "\n",
        "\n",
        "  ## Parameter for Fine Tunning\n",
        "    num_epoch = 3\n",
        "    count = 0\n",
        "    while count < num_epoch:\n",
        "      print(f'Fine tuning the mode with iteration {count +1}')\n",
        "      new_model_adapter.fine_tune(samples=samples)\n",
        "      count = count +1\n",
        "\n",
        "  ## after fine tuning\n",
        "    completion = new_model_adapter.complete(query=sample_query, max_generated_token_count=100).generated_output\n",
        "    print(f\"Generated: {completion}\")\n",
        "\n",
        "    #new_model_adapter.delete()\n",
        "    gradient.close()\n",
        "\n",
        "if __name__ == \"__main__\":\n",
        "    main()"
      ]
    }
  ],
  "metadata": {
    "accelerator": "GPU",
    "colab": {
      "provenance": []
    },
    "kernelspec": {
      "display_name": "Python 3",
      "name": "python3"
    },
    "language_info": {
      "name": "python"
    }
  },
  "nbformat": 4,
  "nbformat_minor": 0
}
